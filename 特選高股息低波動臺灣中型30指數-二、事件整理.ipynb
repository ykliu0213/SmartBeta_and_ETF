{
 "cells": [
  {
   "cell_type": "code",
   "execution_count": 1,
   "metadata": {},
   "outputs": [],
   "source": [
    "import pandas as pd\n",
    "import numpy as np"
   ]
  },
  {
   "cell_type": "markdown",
   "metadata": {
    "scrolled": false
   },
   "source": [
    "# 運用到前一日收盤價事件\n",
    "(一) 新增或刪除採樣股票生效日。 : \n",
    "調整市值＝前一日收盤價 × 發行股數   \n",
    "\n",
    "(三) 員工酬勞增資股或新股權利證書上市日。 : \n",
    "調整市值＝除權日前一日收盤×員工分紅(仟股) \n",
    "\n",
    "(六) 公司依法註銷股份辦理減資經本公司公告後之除權交易日或次月第三個交易日，並以較先者為準。\n",
    "調整市值 = 除權日前一日收盤×庫藏股註銷(仟股) \n",
    "\n",
    "(八) 公司合併後增資股或新股權利證書上市日。\n",
    "調整市值 = 除權日前一日收盤×合併(仟股)\n",
    "\n",
    "(九) 轉換公司債轉換的債券換股權證換發為普通股的上市日。\n",
    "調整市值 = 除權日前一日收盤×證券轉換(仟股)\n",
    "\n",
    "(一二) 為海外存託憑證而發行的新股上市日。\n",
    "調整市值 = 除權日前一日收盤× GDR比率% ×現金增資(仟股)\n",
    "\n",
    "(一三) 可轉換特別股轉換為普通股的上市日。\n",
    "調整市值 =除權日前一日收盤×證券轉換(仟股)\n",
    "\n",
    "# 運用到其他日期事件\n",
    "(二) 現金增資認購普通股的除權交易日。:\n",
    "調整市值＝現金增資認購價 × 現金增資股數\n",
    "\n",
    "# 暫時不討論事件\n",
    "(三) 員工酬勞增資股或新股權利證書上市日。 : \n",
    "調整市值＝除權日前一日收盤×員工分紅(仟股) \n",
    "新股權利證書Case2: \n",
    "現金增資發行新股參與發行海外存託憑證 - 發行GDR 且員工認股\n",
    "現金增資員工認股\n",
    "(四) 特別股無償配發普通股除權交易日。 : \n",
    "(五) 上市公司持有未辦理減資註銷庫藏股除權交易日。    \n",
    "(七) 收到現金增資募集失敗之通知後，次月第三個交易日將發行股數復原。\n",
    "(一〇)上市公司發行之轉換公司債直接換發為普通股或附認股權有價證券(附認股權公司債及附. 認股權特別股)認購而發行之普通股，俟其除權交易日或其辦理資本額變更登記經本公司公告後次月第三個交易日。\n",
    "(一一) 股東放棄認購而採公開承銷之現金增資股票或股款繳納憑證上市日。\n"
   ]
  },
  {
   "cell_type": "markdown",
   "metadata": {},
   "source": [
    "# 一、 匯入所需資料、事件資料以及日股價資料(取得除權前一日收盤價)"
   ]
  },
  {
   "cell_type": "code",
   "execution_count": 2,
   "metadata": {},
   "outputs": [],
   "source": [
    "df_Event = pd.read_csv('./基值相關/Event.txt',engine='python',sep='\\t')\n",
    "df_Event['現金認購價（元）'] = df_Event['現金認購價（元）'].str.replace(' ','').replace('-',np.NaN).astype('float')"
   ]
  },
  {
   "cell_type": "code",
   "execution_count": 3,
   "metadata": {},
   "outputs": [],
   "source": [
    "df_D = pd.read_csv('./Data/Daily_Data.txt',engine='python',sep='\\t')\n",
    "df_D = df_D.sort_values(['證券代碼','年月日']).reset_index(drop=True)\n",
    "df_D['除權前一日收盤價'] = df_D.groupby('證券代碼')['收盤價'].shift(1)\n"
   ]
  },
  {
   "cell_type": "markdown",
   "metadata": {},
   "source": [
    "# 二、 整理所有事件，輸出為各式件資料集"
   ]
  },
  {
   "cell_type": "markdown",
   "metadata": {},
   "source": [
    "# (一) 新增或刪除採樣股票生效日。 : "
   ]
  },
  {
   "cell_type": "code",
   "execution_count": 4,
   "metadata": {
    "scrolled": true
   },
   "outputs": [],
   "source": [
    "df_final = pd.read_csv('df_final.csv',engine='python',encoding='utf_8_sig')\n",
    "df_final = df_final[['Data_End_Date', 'Review_Date', 'Active_Date', 'Code', 'New_Remain_Del','SmartBeta']]"
   ]
  },
  {
   "cell_type": "code",
   "execution_count": 5,
   "metadata": {
    "scrolled": true
   },
   "outputs": [],
   "source": [
    "temp = pd.merge(left=df_final,right=df_D[['證券代碼','簡稱','年月日','除權前一日收盤價','流通在外股數']],left_on=['Code','Active_Date'],right_on=['證券代碼','年月日'],how='left')\n",
    "temp = temp.dropna().reset_index(drop=True)"
   ]
  },
  {
   "cell_type": "code",
   "execution_count": 6,
   "metadata": {},
   "outputs": [],
   "source": [
    "# 取出每次審核日新加入的個股\n",
    "temp = temp[temp['New_Remain_Del']==0].reset_index(drop=True)\n",
    "df_New = pd.DataFrame()\n",
    "df_New['除權日'] = temp['年月日']\n",
    "df_New['公司'] = temp['證券代碼']\n",
    "df_New['簡稱'] = temp['簡稱']\n",
    "df_New['事件名稱'] = ['New']*len(df_New)\n",
    "df_New['調整市值'] =  temp['除權前一日收盤價'] *  temp['流通在外股數']"
   ]
  },
  {
   "cell_type": "code",
   "execution_count": 7,
   "metadata": {},
   "outputs": [],
   "source": [
    "temp = pd.merge(left=df_final,right=df_D[['證券代碼','簡稱','年月日','除權前一日收盤價','流通在外股數']],left_on=['Code','Active_Date'],right_on=['證券代碼','年月日'],how='left')\n"
   ]
  },
  {
   "cell_type": "code",
   "execution_count": 8,
   "metadata": {},
   "outputs": [],
   "source": [
    "# 取出每次審核日刪除的個股\n",
    "temp = temp[temp['New_Remain_Del']==2].reset_index(drop=True)\n",
    "df_Del = pd.DataFrame()\n",
    "df_Del['除權日'] = temp['年月日']\n",
    "df_Del['公司'] = temp['證券代碼']\n",
    "df_Del['簡稱'] = temp['簡稱']\n",
    "df_Del['事件名稱'] = ['Del']*len(df_Del)\n",
    "df_Del['調整市值'] =  temp['除權前一日收盤價'] *  temp['流通在外股數']"
   ]
  },
  {
   "cell_type": "code",
   "execution_count": 9,
   "metadata": {
    "scrolled": true
   },
   "outputs": [
    {
     "name": "stdout",
     "output_type": "stream",
     "text": [
      "<class 'pandas.core.frame.DataFrame'>\n",
      "RangeIndex: 179 entries, 0 to 178\n",
      "Data columns (total 5 columns):\n",
      "除權日     179 non-null int64\n",
      "公司      179 non-null int64\n",
      "簡稱      179 non-null object\n",
      "事件名稱    179 non-null object\n",
      "調整市值    179 non-null float64\n",
      "dtypes: float64(1), int64(2), object(2)\n",
      "memory usage: 7.1+ KB\n"
     ]
    }
   ],
   "source": [
    "df_Del.info()"
   ]
  },
  {
   "cell_type": "markdown",
   "metadata": {},
   "source": [
    "# (二) 現金增資認購普通股的除權交易日。"
   ]
  },
  {
   "cell_type": "code",
   "execution_count": 10,
   "metadata": {},
   "outputs": [],
   "source": [
    "temp = df_Event[df_Event['GDR 比率 %']==0]  #由於新增海外存託憑證也是使用到現金增資(仟股)欄位，故取\n",
    "\n",
    "df_SEO = pd.DataFrame()\n",
    "df_SEO['除權日'] = temp['除權日']\n",
    "df_SEO['公司'] = temp['公司']\n",
    "df_SEO['簡稱'] = temp['簡稱']\n",
    "df_SEO['事件名稱'] = ['SEO']*len(df_SEO)\n",
    "df_SEO['調整市值'] =  temp['現金認購價（元）'] *  temp['現金增資(仟股)']"
   ]
  },
  {
   "cell_type": "code",
   "execution_count": 11,
   "metadata": {},
   "outputs": [],
   "source": [
    "df_SEO =df_SEO[ df_SEO['調整市值'] != 0].reset_index(drop=True)"
   ]
  },
  {
   "cell_type": "code",
   "execution_count": 12,
   "metadata": {
    "scrolled": true
   },
   "outputs": [
    {
     "data": {
      "text/plain": [
       "True"
      ]
     },
     "execution_count": 12,
     "metadata": {},
     "output_type": "execute_result"
    }
   ],
   "source": [
    "# 檢查有無同一公司在同天增資兩次\n",
    "len(df_SEO)==len(df_SEO.groupby(['除權日','公司'])['調整市值'].sum())"
   ]
  },
  {
   "cell_type": "markdown",
   "metadata": {},
   "source": [
    "# (三) 員工酬勞增資股或新股權利證書上市日。 : "
   ]
  },
  {
   "cell_type": "code",
   "execution_count": 13,
   "metadata": {},
   "outputs": [],
   "source": [
    "df_Event['公司'] = df_Event['公司'].str.replace(' ','').astype('str')\n",
    "df_D['證券代碼']= df_D['證券代碼'].astype('str')\n",
    "temp = pd.merge(left=df_Event,right=df_D[['證券代碼','年月日','除權前一日收盤價']],left_on=['公司','除權日'],right_on=['證券代碼','年月日'],how='left')\n",
    "temp = temp.dropna().reset_index(drop=True)"
   ]
  },
  {
   "cell_type": "code",
   "execution_count": 14,
   "metadata": {},
   "outputs": [],
   "source": [
    "df_Staff = pd.DataFrame()\n",
    "df_Staff['除權日'] = temp['除權日']\n",
    "df_Staff['公司'] = temp['公司']\n",
    "df_Staff['簡稱'] = temp['簡稱']\n",
    "df_Staff['事件名稱'] = ['Staff']*len(df_Staff)\n",
    "df_Staff['調整市值'] =  temp['除權前一日收盤價'] *  temp['員工分紅(仟股)']"
   ]
  },
  {
   "cell_type": "code",
   "execution_count": 15,
   "metadata": {},
   "outputs": [],
   "source": [
    "df_Staff =df_Staff[ df_Staff['調整市值'] != 0].reset_index(drop=True)"
   ]
  },
  {
   "cell_type": "code",
   "execution_count": 16,
   "metadata": {},
   "outputs": [
    {
     "data": {
      "text/plain": [
       "True"
      ]
     },
     "execution_count": 16,
     "metadata": {},
     "output_type": "execute_result"
    }
   ],
   "source": [
    "# 檢查有無同一公司在同天增資兩次 True 表示沒有\n",
    "len(df_Staff)==len(df_Staff.groupby(['除權日','公司'])['調整市值'].sum())"
   ]
  },
  {
   "cell_type": "markdown",
   "metadata": {},
   "source": [
    "# (六) 公司依法註銷股份辦理減資經本公司公告後之除權交易日或次月第三個交易日，並以較先者為準。"
   ]
  },
  {
   "cell_type": "code",
   "execution_count": 17,
   "metadata": {},
   "outputs": [],
   "source": [
    "df_Treasury = pd.DataFrame()\n",
    "df_Treasury['除權日'] = temp['除權日']\n",
    "df_Treasury['公司'] = temp['公司']\n",
    "df_Treasury['簡稱'] = temp['簡稱']\n",
    "df_Treasury['事件名稱'] = ['Treasury']*len(df_Treasury)\n",
    "df_Treasury['調整市值'] =  temp['除權前一日收盤價'] *  temp['庫藏股註銷(仟股)']"
   ]
  },
  {
   "cell_type": "code",
   "execution_count": 18,
   "metadata": {},
   "outputs": [],
   "source": [
    "df_Treasury =df_Treasury[ df_Treasury['調整市值'] != 0].reset_index(drop=True)"
   ]
  },
  {
   "cell_type": "code",
   "execution_count": 19,
   "metadata": {},
   "outputs": [
    {
     "data": {
      "text/plain": [
       "True"
      ]
     },
     "execution_count": 19,
     "metadata": {},
     "output_type": "execute_result"
    }
   ],
   "source": [
    "# 檢查有無同一公司在同天增資兩次 True 表示沒有\n",
    "len(df_Treasury)==len(df_Treasury.groupby(['除權日','公司'])['調整市值'].sum())"
   ]
  },
  {
   "cell_type": "markdown",
   "metadata": {},
   "source": [
    "# (八) 公司合併後增資股或新股權利證書上市日。"
   ]
  },
  {
   "cell_type": "code",
   "execution_count": 20,
   "metadata": {},
   "outputs": [],
   "source": [
    "df_Merge = pd.DataFrame()\n",
    "df_Merge['除權日'] = temp['除權日']\n",
    "df_Merge['公司'] = temp['公司']\n",
    "df_Merge['簡稱'] = temp['簡稱']\n",
    "df_Merge['事件名稱'] = ['Merge']*len(df_Merge)\n",
    "df_Merge['調整市值'] =  temp['除權前一日收盤價'] *  temp['合併(仟股)']"
   ]
  },
  {
   "cell_type": "code",
   "execution_count": 21,
   "metadata": {},
   "outputs": [],
   "source": [
    "df_Merge =df_Merge[ df_Merge['調整市值'] != 0].reset_index(drop=True)"
   ]
  },
  {
   "cell_type": "code",
   "execution_count": 22,
   "metadata": {},
   "outputs": [
    {
     "data": {
      "text/plain": [
       "True"
      ]
     },
     "execution_count": 22,
     "metadata": {},
     "output_type": "execute_result"
    }
   ],
   "source": [
    "# 檢查有無同一公司在同天增資兩次 True 表示沒有\n",
    "len(df_Merge)==len(df_Merge.groupby(['除權日','公司'])['調整市值'].sum())"
   ]
  },
  {
   "cell_type": "markdown",
   "metadata": {},
   "source": [
    "# (九) 轉換公司債轉換的債券換股權證換發為普通股的上市日。"
   ]
  },
  {
   "cell_type": "code",
   "execution_count": 23,
   "metadata": {},
   "outputs": [],
   "source": [
    "temp_CB=temp[[  ('債' in x)or('CB' in x)or('cb'in x) for x in temp['其他-說明']]]"
   ]
  },
  {
   "cell_type": "code",
   "execution_count": 24,
   "metadata": {},
   "outputs": [],
   "source": [
    "df_CB = pd.DataFrame()\n",
    "df_CB['除權日'] = temp_CB['除權日']\n",
    "df_CB['公司'] = temp_CB['公司']\n",
    "df_CB['簡稱'] = temp_CB['簡稱']\n",
    "df_CB['事件名稱'] = ['CB']*len(df_CB)\n",
    "df_CB['調整市值'] =  temp_CB['除權前一日收盤價'] *  temp_CB['証券轉換(仟股)']"
   ]
  },
  {
   "cell_type": "code",
   "execution_count": 25,
   "metadata": {},
   "outputs": [],
   "source": [
    "df_CB =df_CB[ df_CB['調整市值'] != 0].reset_index(drop=True)"
   ]
  },
  {
   "cell_type": "code",
   "execution_count": 26,
   "metadata": {},
   "outputs": [
    {
     "data": {
      "text/plain": [
       "True"
      ]
     },
     "execution_count": 26,
     "metadata": {},
     "output_type": "execute_result"
    }
   ],
   "source": [
    "# 檢查有無同一公司在同天增資兩次 True 表示沒有\n",
    "len(df_CB)==len(df_CB.groupby(['除權日','公司'])['調整市值'].sum())"
   ]
  },
  {
   "cell_type": "markdown",
   "metadata": {},
   "source": [
    "# (一二) 為海外存託憑證而發行的新股上市日。"
   ]
  },
  {
   "cell_type": "code",
   "execution_count": 27,
   "metadata": {},
   "outputs": [],
   "source": [
    "temp_GDR = temp[temp['GDR 比率 %']!=0]"
   ]
  },
  {
   "cell_type": "code",
   "execution_count": 28,
   "metadata": {},
   "outputs": [],
   "source": [
    "df_GDR = pd.DataFrame()\n",
    "df_GDR['除權日'] = temp_GDR['除權日']\n",
    "df_GDR['公司'] = temp_GDR['公司']\n",
    "df_GDR['簡稱'] = temp_GDR['簡稱']\n",
    "df_GDR['事件名稱'] = ['GDR']*len(df_GDR)\n",
    "df_GDR['調整市值'] =  temp_GDR['除權前一日收盤價'] *  temp_GDR['現金增資(仟股)']"
   ]
  },
  {
   "cell_type": "code",
   "execution_count": 29,
   "metadata": {},
   "outputs": [],
   "source": [
    "df_GDR =df_GDR[ df_GDR['調整市值'] != 0].reset_index(drop=True)"
   ]
  },
  {
   "cell_type": "code",
   "execution_count": 30,
   "metadata": {},
   "outputs": [
    {
     "data": {
      "text/plain": [
       "True"
      ]
     },
     "execution_count": 30,
     "metadata": {},
     "output_type": "execute_result"
    }
   ],
   "source": [
    "# 檢查有無同一公司在同天增資兩次 True 表示沒有\n",
    "len(df_GDR)==len(df_GDR.groupby(['除權日','公司'])['調整市值'].sum())"
   ]
  },
  {
   "cell_type": "markdown",
   "metadata": {},
   "source": [
    "# (一三) 可轉換特別股轉換為普通股的上市日。"
   ]
  },
  {
   "cell_type": "code",
   "execution_count": 31,
   "metadata": {},
   "outputs": [],
   "source": [
    "temp_CP=temp[[  ('甲特' in x)or('乙特' in x)or('丙特' in x) for x in temp['其他-說明']]]"
   ]
  },
  {
   "cell_type": "code",
   "execution_count": 32,
   "metadata": {},
   "outputs": [],
   "source": [
    "df_CP = pd.DataFrame()\n",
    "df_CP['除權日'] = temp_CP['除權日']\n",
    "df_CP['公司'] = temp_CP['公司']\n",
    "df_CP['簡稱'] = temp_CP['簡稱']\n",
    "df_CP['事件名稱'] = ['CP']*len(df_CP)\n",
    "df_CP['調整市值'] =  temp_CP['除權前一日收盤價'] *  temp_CP['証券轉換(仟股)']"
   ]
  },
  {
   "cell_type": "code",
   "execution_count": 33,
   "metadata": {},
   "outputs": [],
   "source": [
    "df_CP =df_CP[ df_CP['調整市值'] != 0].reset_index(drop=True)"
   ]
  },
  {
   "cell_type": "code",
   "execution_count": 34,
   "metadata": {},
   "outputs": [
    {
     "data": {
      "text/plain": [
       "True"
      ]
     },
     "execution_count": 34,
     "metadata": {},
     "output_type": "execute_result"
    }
   ],
   "source": [
    "# 檢查有無同一公司在同天增資兩次 True 表示沒有\n",
    "len(df_CP)==len(df_CP.groupby(['除權日','公司'])['調整市值'].sum())"
   ]
  },
  {
   "cell_type": "markdown",
   "metadata": {},
   "source": [
    "# 三、合併個事件資料，並檢查單一個股同天是否發生多事件"
   ]
  },
  {
   "cell_type": "code",
   "execution_count": 35,
   "metadata": {},
   "outputs": [],
   "source": [
    "dfs = [df_New,df_Del,df_CB,df_CP,df_GDR,df_Merge,df_SEO]\n",
    "df_final=pd.concat(dfs).reset_index(drop=True)\n",
    "df_final['調整市值'] = df_final['調整市值']*1000"
   ]
  },
  {
   "cell_type": "code",
   "execution_count": 36,
   "metadata": {},
   "outputs": [
    {
     "name": "stdout",
     "output_type": "stream",
     "text": [
      "15\n",
      "15\n"
     ]
    }
   ],
   "source": [
    "print(len(df_final[pd.isnull(df_final['調整市值'])==True]))\n",
    "print((pd.isnull(df_Event['現金認購價（元）'])*1).sum())"
   ]
  },
  {
   "cell_type": "code",
   "execution_count": 37,
   "metadata": {},
   "outputs": [],
   "source": [
    "\n",
    "df_final['公司'] = df_final['公司'].astype('str')\n",
    "df_final=df_final.dropna().reset_index(drop=True)"
   ]
  },
  {
   "cell_type": "code",
   "execution_count": 38,
   "metadata": {},
   "outputs": [
    {
     "name": "stdout",
     "output_type": "stream",
     "text": [
      "True\n"
     ]
    },
    {
     "data": {
      "text/html": [
       "<div>\n",
       "<style scoped>\n",
       "    .dataframe tbody tr th:only-of-type {\n",
       "        vertical-align: middle;\n",
       "    }\n",
       "\n",
       "    .dataframe tbody tr th {\n",
       "        vertical-align: top;\n",
       "    }\n",
       "\n",
       "    .dataframe thead th {\n",
       "        text-align: right;\n",
       "    }\n",
       "</style>\n",
       "<table border=\"1\" class=\"dataframe\">\n",
       "  <thead>\n",
       "    <tr style=\"text-align: right;\">\n",
       "      <th></th>\n",
       "      <th>除權日</th>\n",
       "      <th>公司</th>\n",
       "      <th>簡稱</th>\n",
       "      <th>事件名稱</th>\n",
       "      <th>調整市值</th>\n",
       "    </tr>\n",
       "  </thead>\n",
       "  <tbody>\n",
       "  </tbody>\n",
       "</table>\n",
       "</div>"
      ],
      "text/plain": [
       "Empty DataFrame\n",
       "Columns: [除權日, 公司, 簡稱, 事件名稱, 調整市值]\n",
       "Index: []"
      ]
     },
     "execution_count": 38,
     "metadata": {},
     "output_type": "execute_result"
    }
   ],
   "source": [
    "print(len(df_final)==len(df_final.drop_duplicates(['除權日','公司'])) )#檢查有無同一天發生兩件事 False表示有一公司同天發生兩件事\n",
    "df_final[df_final.duplicated(['除權日','公司'],keep=False)]"
   ]
  },
  {
   "cell_type": "code",
   "execution_count": 40,
   "metadata": {
    "scrolled": true
   },
   "outputs": [],
   "source": [
    "df_final.to_csv('df_final_event.csv',index=False,encoding='utf_8_sig')"
   ]
  },
  {
   "cell_type": "code",
   "execution_count": null,
   "metadata": {},
   "outputs": [],
   "source": []
  }
 ],
 "metadata": {
  "kernelspec": {
   "display_name": "Python 3",
   "language": "python",
   "name": "python3"
  },
  "language_info": {
   "codemirror_mode": {
    "name": "ipython",
    "version": 3
   },
   "file_extension": ".py",
   "mimetype": "text/x-python",
   "name": "python",
   "nbconvert_exporter": "python",
   "pygments_lexer": "ipython3",
   "version": "3.6.5"
  }
 },
 "nbformat": 4,
 "nbformat_minor": 2
}
